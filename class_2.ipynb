{
  "nbformat": 4,
  "nbformat_minor": 0,
  "metadata": {
    "colab": {
      "provenance": [],
      "authorship_tag": "ABX9TyOAyuetpCimiOttMTrIW+zS",
      "include_colab_link": true
    },
    "kernelspec": {
      "name": "python3",
      "display_name": "Python 3"
    },
    "language_info": {
      "name": "python"
    }
  },
  "cells": [
    {
      "cell_type": "markdown",
      "metadata": {
        "id": "view-in-github",
        "colab_type": "text"
      },
      "source": [
        "<a href=\"https://colab.research.google.com/github/Babaralihyd/Python-Grade-and-Calculato/blob/main/class_2.ipynb\" target=\"_parent\"><img src=\"https://colab.research.google.com/assets/colab-badge.svg\" alt=\"Open In Colab\"/></a>"
      ]
    },
    {
      "cell_type": "code",
      "execution_count": 6,
      "metadata": {
        "colab": {
          "base_uri": "https://localhost:8080/"
        },
        "id": "PGaVgos8exWX",
        "outputId": "8594850c-9f15-4949-a3f1-1fefec35d198"
      },
      "outputs": [
        {
          "output_type": "stream",
          "name": "stdout",
          "text": [
            "Enter first Number: 20\n",
            "Enter operator (+, -, *, /, **): /\n",
            "Enter second Number: 2\n",
            "Div Result: 10.0\n"
          ]
        }
      ],
      "source": [
        "Num1 = float(input(\"Enter first Number: \"))\n",
        "\n",
        "operator = input(\"Enter operator (+, -, *, /, **): \")\n",
        "\n",
        "Num2 = float(input(\"Enter second Number: \"))\n",
        "\n",
        "if operator == '+':\n",
        "    print(\"Add Result:\", Num1 + Num2)\n",
        "\n",
        "elif operator == '-':\n",
        "    print(\"Sub Result:\", Num1 - Num2)\n",
        "\n",
        "elif operator == '*':\n",
        "    print(\"Mul Result:\", Num1 * Num2)\n",
        "\n",
        "elif operator == '**':\n",
        "    print(\"Exponentiation Result:\", Num1 ** Num2)\n",
        "\n",
        "elif operator == '/':\n",
        "    if Num2 != 0:\n",
        "        print(\"Div Result:\", Num1 / Num2)\n",
        "    else:\n",
        "        print(\"Error! Division by zero\")\n",
        "\n",
        "else:\n",
        "    print(\"Invalid operator\")\n"
      ]
    },
    {
      "cell_type": "code",
      "source": [
        "print(\"==== Grade Calculation Program ====\")\n",
        "\n",
        "score = float(input(\"Enter your score : \"))\n",
        "\n",
        "if score >= 90 and score <= 100:\n",
        "    print(\"Grade: A\")\n",
        "elif score >= 80 and score < 90:\n",
        "    print(\"Grade: B\")\n",
        "elif score >= 70 and score < 80:\n",
        "    print(\"Grade: C\")\n",
        "elif score >= 60 and score < 70:\n",
        "    print(\"Grade: D\")\n",
        "else:\n",
        "    print(\"Grade: Fail\")\n"
      ],
      "metadata": {
        "id": "IxiltHFwoyjf"
      },
      "execution_count": null,
      "outputs": []
    }
  ]
}